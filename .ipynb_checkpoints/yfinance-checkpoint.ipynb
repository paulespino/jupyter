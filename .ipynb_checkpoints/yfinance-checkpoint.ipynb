{
 "cells": [
  {
   "cell_type": "code",
   "execution_count": 14,
   "id": "1e36abfa-9877-47a6-941a-e8b3c79ef23d",
   "metadata": {},
   "outputs": [
    {
     "name": "stdout",
     "output_type": "stream",
     "text": [
      "Collecting yfinance\n",
      "  Using cached yfinance-0.2.65-py2.py3-none-any.whl.metadata (5.8 kB)\n",
      "Collecting pandas>=1.3.0 (from yfinance)\n",
      "  Using cached pandas-2.3.2-cp313-cp313-macosx_11_0_arm64.whl.metadata (91 kB)\n",
      "Requirement already satisfied: numpy>=1.16.5 in /opt/homebrew/lib/python3.13/site-packages (from yfinance) (2.3.2)\n",
      "Requirement already satisfied: requests>=2.31 in /opt/homebrew/Cellar/jupyterlab/4.4.5/libexec/lib/python3.13/site-packages (from yfinance) (2.32.4)\n",
      "Collecting multitasking>=0.0.7 (from yfinance)\n",
      "  Using cached multitasking-0.0.12-py3-none-any.whl\n",
      "Requirement already satisfied: platformdirs>=2.0.0 in /opt/homebrew/Cellar/jupyterlab/4.4.5/libexec/lib/python3.13/site-packages (from yfinance) (4.3.8)\n",
      "Collecting pytz>=2022.5 (from yfinance)\n",
      "  Using cached pytz-2025.2-py2.py3-none-any.whl.metadata (22 kB)\n",
      "Collecting frozendict>=2.3.4 (from yfinance)\n",
      "  Using cached frozendict-2.4.6-py313-none-any.whl.metadata (23 kB)\n",
      "Collecting peewee>=3.16.2 (from yfinance)\n",
      "  Using cached peewee-3.18.2-cp313-cp313-macosx_15_0_arm64.whl\n",
      "Requirement already satisfied: beautifulsoup4>=4.11.1 in /opt/homebrew/Cellar/jupyterlab/4.4.5/libexec/lib/python3.13/site-packages (from yfinance) (4.13.4)\n",
      "Collecting curl_cffi>=0.7 (from yfinance)\n",
      "  Using cached curl_cffi-0.13.0-cp39-abi3-macosx_11_0_arm64.whl.metadata (13 kB)\n",
      "Collecting protobuf>=3.19.0 (from yfinance)\n",
      "  Using cached protobuf-6.32.0-cp39-abi3-macosx_10_9_universal2.whl.metadata (593 bytes)\n",
      "Collecting websockets>=13.0 (from yfinance)\n",
      "  Using cached websockets-15.0.1-cp313-cp313-macosx_11_0_arm64.whl.metadata (6.8 kB)\n",
      "Requirement already satisfied: soupsieve>1.2 in /opt/homebrew/Cellar/jupyterlab/4.4.5/libexec/lib/python3.13/site-packages (from beautifulsoup4>=4.11.1->yfinance) (2.7)\n",
      "Requirement already satisfied: typing-extensions>=4.0.0 in /opt/homebrew/Cellar/jupyterlab/4.4.5/libexec/lib/python3.13/site-packages (from beautifulsoup4>=4.11.1->yfinance) (4.14.1)\n",
      "Requirement already satisfied: cffi>=1.12.0 in /opt/homebrew/Cellar/jupyterlab/4.4.5/libexec/lib/python3.13/site-packages (from curl_cffi>=0.7->yfinance) (1.17.1)\n",
      "Requirement already satisfied: certifi>=2024.2.2 in /opt/homebrew/opt/certifi/lib/python3.13/site-packages (from curl_cffi>=0.7->yfinance) (2025.7.14)\n",
      "Requirement already satisfied: pycparser in /opt/homebrew/Cellar/jupyterlab/4.4.5/libexec/lib/python3.13/site-packages (from cffi>=1.12.0->curl_cffi>=0.7->yfinance) (2.22)\n",
      "Requirement already satisfied: python-dateutil>=2.8.2 in /opt/homebrew/Cellar/jupyterlab/4.4.5/libexec/lib/python3.13/site-packages (from pandas>=1.3.0->yfinance) (2.9.0.post0)\n",
      "Collecting tzdata>=2022.7 (from pandas>=1.3.0->yfinance)\n",
      "  Using cached tzdata-2025.2-py2.py3-none-any.whl.metadata (1.4 kB)\n",
      "Requirement already satisfied: six>=1.5 in /opt/homebrew/Cellar/jupyterlab/4.4.5/libexec/lib/python3.13/site-packages (from python-dateutil>=2.8.2->pandas>=1.3.0->yfinance) (1.17.0)\n",
      "Requirement already satisfied: charset_normalizer<4,>=2 in /opt/homebrew/Cellar/jupyterlab/4.4.5/libexec/lib/python3.13/site-packages (from requests>=2.31->yfinance) (3.4.2)\n",
      "Requirement already satisfied: idna<4,>=2.5 in /opt/homebrew/Cellar/jupyterlab/4.4.5/libexec/lib/python3.13/site-packages (from requests>=2.31->yfinance) (3.10)\n",
      "Requirement already satisfied: urllib3<3,>=1.21.1 in /opt/homebrew/Cellar/jupyterlab/4.4.5/libexec/lib/python3.13/site-packages (from requests>=2.31->yfinance) (2.5.0)\n",
      "Using cached yfinance-0.2.65-py2.py3-none-any.whl (119 kB)\n",
      "Using cached curl_cffi-0.13.0-cp39-abi3-macosx_11_0_arm64.whl (3.0 MB)\n",
      "Using cached frozendict-2.4.6-py313-none-any.whl (16 kB)\n",
      "Using cached pandas-2.3.2-cp313-cp313-macosx_11_0_arm64.whl (10.7 MB)\n",
      "Using cached protobuf-6.32.0-cp39-abi3-macosx_10_9_universal2.whl (426 kB)\n",
      "Using cached pytz-2025.2-py2.py3-none-any.whl (509 kB)\n",
      "Using cached tzdata-2025.2-py2.py3-none-any.whl (347 kB)\n",
      "Using cached websockets-15.0.1-cp313-cp313-macosx_11_0_arm64.whl (173 kB)\n",
      "Installing collected packages: pytz, peewee, multitasking, websockets, tzdata, protobuf, frozendict, pandas, curl_cffi, yfinance\n",
      "\u001b[2K   \u001b[38;2;114;156;31m━━━━━━━━━━━━━━━━━━━━━━━━━━━━━━━━━━━━━━━━\u001b[0m \u001b[32m10/10\u001b[0m [yfinance]\u001b[0m \u001b[32m 9/10\u001b[0m [yfinance]s]\n",
      "\u001b[1A\u001b[2KSuccessfully installed curl_cffi-0.13.0 frozendict-2.4.6 multitasking-0.0.12 pandas-2.3.2 peewee-3.18.2 protobuf-6.32.0 pytz-2025.2 tzdata-2025.2 websockets-15.0.1 yfinance-0.2.65\n",
      "yfinance.Ticker object <AMD>\n"
     ]
    }
   ],
   "source": [
    "import sys\n",
    "!{sys.executable} -m pip install yfinance"
   ]
  },
  {
   "cell_type": "code",
   "execution_count": 29,
   "id": "dc9115fd-5896-40f6-b0f4-55c388265f7e",
   "metadata": {},
   "outputs": [
    {
     "name": "stdout",
     "output_type": "stream",
     "text": [
      "                                 Open        High         Low       Close  \\\n",
      "Date                                                                        \n",
      "1980-03-17 00:00:00-05:00    3.125000    3.302083    3.125000    3.145833   \n",
      "1980-03-18 00:00:00-05:00    3.125000    3.125000    2.937500    3.031250   \n",
      "1980-03-19 00:00:00-05:00    3.031250    3.083333    3.020833    3.041667   \n",
      "1980-03-20 00:00:00-05:00    3.041667    3.062500    3.010417    3.010417   \n",
      "1980-03-21 00:00:00-05:00    3.010417    3.020833    2.906250    2.916667   \n",
      "...                               ...         ...         ...         ...   \n",
      "2025-08-25 00:00:00-04:00  165.550003  165.589996  161.720001  163.360001   \n",
      "2025-08-26 00:00:00-04:00  168.649994  169.770004  164.910004  166.619995   \n",
      "2025-08-27 00:00:00-04:00  166.039993  167.679993  164.649994  167.130005   \n",
      "2025-08-28 00:00:00-04:00  168.500000  170.990005  166.649994  168.580002   \n",
      "2025-08-29 00:00:00-04:00  166.809998  168.570007  161.899994  162.630005   \n",
      "\n",
      "                             Volume  Dividends  Stock Splits  \n",
      "Date                                                          \n",
      "1980-03-17 00:00:00-05:00    219600        0.0           0.0  \n",
      "1980-03-18 00:00:00-05:00    727200        0.0           0.0  \n",
      "1980-03-19 00:00:00-05:00    295200        0.0           0.0  \n",
      "1980-03-20 00:00:00-05:00    159600        0.0           0.0  \n",
      "1980-03-21 00:00:00-05:00    130800        0.0           0.0  \n",
      "...                             ...        ...           ...  \n",
      "2025-08-25 00:00:00-04:00  36134700        0.0           0.0  \n",
      "2025-08-26 00:00:00-04:00  52138600        0.0           0.0  \n",
      "2025-08-27 00:00:00-04:00  37031000        0.0           0.0  \n",
      "2025-08-28 00:00:00-04:00  36285200        0.0           0.0  \n",
      "2025-08-29 00:00:00-04:00  37451300        0.0           0.0  \n",
      "\n",
      "[11458 rows x 7 columns]\n"
     ]
    }
   ],
   "source": [
    "import yfinance as yf\n",
    "AMD = yf.Ticker(\"AMD\")\n",
    "##print(AMD.info[\"sector\"])\n",
    "print(AMD.history(period=\"max\"))"
   ]
  },
  {
   "cell_type": "code",
   "execution_count": null,
   "id": "73863178-5d80-4a53-98cc-e38ab047ff60",
   "metadata": {},
   "outputs": [],
   "source": []
  }
 ],
 "metadata": {
  "kernelspec": {
   "display_name": "Python 3 (ipykernel)",
   "language": "python",
   "name": "python3"
  },
  "language_info": {
   "codemirror_mode": {
    "name": "ipython",
    "version": 3
   },
   "file_extension": ".py",
   "mimetype": "text/x-python",
   "name": "python",
   "nbconvert_exporter": "python",
   "pygments_lexer": "ipython3",
   "version": "3.13.7"
  }
 },
 "nbformat": 4,
 "nbformat_minor": 5
}
