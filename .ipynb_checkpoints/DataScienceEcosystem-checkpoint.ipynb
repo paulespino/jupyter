{
 "cells": [
  {
   "cell_type": "markdown",
   "id": "bf1debb8-5254-4036-8853-406d7a10c251",
   "metadata": {},
   "source": [
    "# Data Science Tools and Ecosystem"
   ]
  },
  {
   "cell_type": "markdown",
   "id": "ebdf3a46-b7ae-46ff-887a-727f9ce1500a",
   "metadata": {},
   "source": [
    "In this notebook, Data Science Tools and Ecosystem are summarized."
   ]
  },
  {
   "cell_type": "markdown",
   "id": "3adc1248-80a7-411d-98af-7277d1b86edb",
   "metadata": {},
   "source": [
    "**Objectives:**\n",
    "- Languages used in Data Science\n",
    "- Most Common Libraries\n",
    "- Data Science Tools"
   ]
  },
  {
   "cell_type": "markdown",
   "id": "92e51b8c-4ed6-4828-a632-152e3dc25ba8",
   "metadata": {},
   "source": [
    "## Author\n",
    "Paul E."
   ]
  },
  {
   "cell_type": "markdown",
   "id": "117c6f21-de20-4358-833c-d1e5c5a1565a",
   "metadata": {},
   "source": [
    "Some of the popular languages that Data Scientists use are:"
   ]
  },
  {
   "cell_type": "markdown",
   "id": "45aa0b33-c5e4-4840-b666-dbeb58715c05",
   "metadata": {},
   "source": [
    "1. Python\n",
    "2. R\n",
    "3. Julia"
   ]
  },
  {
   "cell_type": "markdown",
   "id": "f6cd8198-b87d-478e-baaf-a7075386e863",
   "metadata": {},
   "source": [
    "Some of the commonly used libraries used by Data Scientists include:"
   ]
  },
  {
   "cell_type": "markdown",
   "id": "2982385e-815c-4622-888a-2658d55f78db",
   "metadata": {},
   "source": [
    "1. Pandas\n",
    "2. Keras\n",
    "3. Scikit-learn"
   ]
  },
  {
   "cell_type": "markdown",
   "id": "8b8c65b2-1fc2-42d4-9147-0dbeab6f56a1",
   "metadata": {},
   "source": [
    "| Data Science Tools |\n",
    "| --- |\n",
    "| Apache Hadoop |\n",
    "| Apache Spark |\n",
    "| Apache Flink |"
   ]
  },
  {
   "cell_type": "markdown",
   "id": "b7610cd5-e206-4ba5-a0fb-3f98996eb0d3",
   "metadata": {},
   "source": [
    "### Below are a few examples of evaluating arithmetic expressions in Python."
   ]
  },
  {
   "cell_type": "markdown",
   "id": "c0a763f1-2017-464e-992b-44e9fb5953fd",
   "metadata": {},
   "source": [
    "This a simple arithmetic expression to mutiply then add integers"
   ]
  },
  {
   "cell_type": "code",
   "execution_count": 5,
   "id": "93979082-06ea-40b9-bc7d-01141fa67627",
   "metadata": {},
   "outputs": [
    {
     "data": {
      "text/plain": [
       "17"
      ]
     },
     "execution_count": 5,
     "metadata": {},
     "output_type": "execute_result"
    }
   ],
   "source": [
    "(3*4)+5"
   ]
  },
  {
   "cell_type": "markdown",
   "id": "ccc6e498-9d6c-4e74-a900-6c45cf6b813a",
   "metadata": {},
   "source": [
    "This will convert 200 minutes to hours by diving by 60"
   ]
  },
  {
   "cell_type": "code",
   "execution_count": 6,
   "id": "9786cf0e-da35-431a-a923-7891f99ce65a",
   "metadata": {},
   "outputs": [
    {
     "data": {
      "text/plain": [
       "3.3333333333333335"
      ]
     },
     "execution_count": 6,
     "metadata": {},
     "output_type": "execute_result"
    }
   ],
   "source": [
    "200/60"
   ]
  },
  {
   "cell_type": "code",
   "execution_count": null,
   "id": "0e8585f7-3c2f-4df2-946f-4e7509e15f26",
   "metadata": {},
   "outputs": [],
   "source": []
  }
 ],
 "metadata": {
  "kernelspec": {
   "display_name": "Python 3 (ipykernel)",
   "language": "python",
   "name": "python3"
  },
  "language_info": {
   "codemirror_mode": {
    "name": "ipython",
    "version": 3
   },
   "file_extension": ".py",
   "mimetype": "text/x-python",
   "name": "python",
   "nbconvert_exporter": "python",
   "pygments_lexer": "ipython3",
   "version": "3.13.5"
  }
 },
 "nbformat": 4,
 "nbformat_minor": 5
}
